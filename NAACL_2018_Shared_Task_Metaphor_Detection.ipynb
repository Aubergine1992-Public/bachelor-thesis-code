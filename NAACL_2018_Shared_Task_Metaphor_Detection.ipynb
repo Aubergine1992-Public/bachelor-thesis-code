{
 "cells": [
  {
   "cell_type": "markdown",
   "metadata": {},
   "source": [
    "# NAACL 2018 Shared Task - Metaphor Detection\n",
    "\n",
    "This notebook implements a method for Metaphor Detection using Keras, as part of my [bachelor thesis](TODO). It is based on the [NAACL 2018 Shared Task for Metaphor Detection](https://sites.google.com/site/figlangworkshop/shared-task) but did not compete in the task.\n",
    "\n",
    "For further details on the Shared Task dataset, visit: https://github.com/EducationalTestingService/metaphor/tree/master/NAACL-FLP-shared-task\n",
    "\n",
    "## Table of contents\n",
    "\n",
    "- [Prerequisites](#prerequisites)\n",
    "- [Download VUAM Corpus](#vuamc_generation)\n",
    "- [Generate Training and Test Data](#corpus_generation)\n",
    "- [Validate Training and Test Data](#corpus_validation)\n",
    "- [Keras Model Configuration](#model_configuration)\n",
    "- [Load Word Embeddings](#word_embeddings)\n",
    "- [Keras Model Compilation](#model_compilation)\n",
    "- [Model Training](#training)\n",
    "- [Model Evaluation](#evaluation)\n",
    "- [Plot of Training](#training_plot)\n",
    "\n",
    "<a id='prerequisites'></a>\n",
    "## Prerequisites \n",
    "\n",
    "Install the Python3 requirements from the requirements.txt\n",
    "\n",
    "```\n",
    "pip3 install -r requirements.txt\n",
    "```\n",
    "\n",
    "Download WordEmbeddings for encoding lexical items (Gensim KeyedVectors, or pymagnitude) into the *source/* directory.\n",
    "\n",
    "```\n",
    "cd source/\n",
    "curl -O http://magnitude.plasticity.ai/fasttext+subword/wiki-news-300d-1M.magnitude\n",
    "curl -O http://magnitude.plasticity.ai/word2vec+subword/GoogleNews-vectors-negative300.magnitude\n",
    "```\n",
    "\n",
    "- https://github.com/plasticityai/magnitude\n",
    "- https://code.google.com/archive/p/word2vec/\n",
    "\n",
    "Download the VUAM Corpus as XML (can't be included due to copyrights) into the *starterkits/* directory. **Hint**: There is a cell in this Notebook that will do that. See [VUAM Corpus](#vuamc_generation).\n",
    "\n",
    "```\n",
    "cd starterkits/\n",
    "curl -O http://ota.ahds.ac.uk/headers/2541.xml\n",
    "\n",
    "# Or use the Python functions provided in the utils module\n",
    "python3 -i utils.py\n",
    "download_vuamc_xml()\n",
    "```\n",
    "\n",
    "The VUAMC needs to be converted into a CSV file and placed into the *source/* directory. This is done using the starterkits provided by the NAACL, which are included in the repository, or a Python function.\n",
    "\n",
    "```\n",
    "cd starterkits/\n",
    "python3 vua_xml_parser.py\n",
    "python3 vua_xml_parser_test.py\n",
    "\n",
    "# Or use the Python functions provided in the utils module\n",
    "python3 -i utils.py\n",
    "generate_vuamc_csv()\n",
    "```"
   ]
  },
  {
   "cell_type": "code",
   "execution_count": 1,
   "metadata": {},
   "outputs": [
    {
     "name": "stderr",
     "output_type": "stream",
     "text": [
      "Using TensorFlow backend.\n"
     ]
    }
   ],
   "source": [
    "# Importing custom modules\n",
    "import utils\n",
    "import corpus\n",
    "import evaluate\n",
    "import features\n",
    "\n",
    "# Import general dependencies\n",
    "import numpy\n",
    "import os\n",
    "import collections\n",
    "from keras.utils import to_categorical\n",
    "from keras.layers import TimeDistributed, Bidirectional, LSTM, Input, Masking, Dense\n",
    "from keras.models import Model\n",
    "from keras import backend as kerasbackend\n",
    "from sklearn.model_selection import KFold\n",
    "from keras.preprocessing.text import Tokenizer"
   ]
  },
  {
   "cell_type": "markdown",
   "metadata": {},
   "source": [
    "<a id='vuamc_generation'></a>\n",
    "# VUAM Corpus\n",
    "\n",
    "The VUAMC is the basis for this task. However, it cannot be included in the repository due to copyrights. \n",
    "\n",
    "The next Cell will check if the VUAMC is downloaded and do so if necessay. It will also generate the CSV files using the converter provided by NAACL"
   ]
  },
  {
   "cell_type": "code",
   "execution_count": null,
   "metadata": {},
   "outputs": [],
   "source": [
    "if not os.path.exists('source/vuamc_corpus_test.csv') and not os.path.exists('source/vuamc_corpus_train.csv'):\n",
    "    print('VUAMC training and test data not found. Generating...')\n",
    "    utils.download_vuamc_xml()\n",
    "    utils.generate_vuamc_csv()\n",
    "    print('VUAMC CSV generated')"
   ]
  },
  {
   "cell_type": "markdown",
   "metadata": {},
   "source": [
    "<a id='corpus_generation'></a>\n",
    "# Test and Training Corpus\n",
    "\n",
    "The next cell will convert the CSV files for training and testing into a Corpus object. This is to manage the sentences in the given corpus and provide functions such as: list all labels, list all tokens, etc.\n",
    "\n",
    "The validation checks if the tokens in the corpus and the tokens in the training/test files align."
   ]
  },
  {
   "cell_type": "code",
   "execution_count": 2,
   "metadata": {},
   "outputs": [
    {
     "name": "stdout",
     "output_type": "stream",
     "text": [
      "Loaded and validated training corpus\n",
      "Loaded and validated test corpus\n"
     ]
    }
   ],
   "source": [
    "# Load Train Corpus from CSV\n",
    "# c_train = corpus.VUAMC('source/vuamc_corpus_train.csv', 'source/verb_tokens_train_gold_labels.csv', 'source/vuamc_corpus_train_pos.csv')\n",
    "c_train = corpus.VUAMC('source/vuamc_corpus_train.csv', 'source/all_pos_tokens_train_gold_labels.csv', 'source/vuamc_corpus_train_pos.csv')\n",
    "c_train.validate_corpus()\n",
    "print('Loaded and validated training corpus')\n",
    "\n",
    "# Load Test Corpus from CSV\n",
    "# c_test = corpus.VUAMC('source/vuamc_corpus_test.csv', 'source/verb_tokens_test.csv', 'source/vuamc_corpus_test_pos.csv', mode='test')\n",
    "c_test = corpus.VUAMC('source/vuamc_corpus_test.csv', 'source/all_pos_tokens_test.csv', 'source/vuamc_corpus_test_pos.csv', mode='test')\n",
    "c_test.validate_corpus()\n",
    "print('Loaded and validated test corpus')"
   ]
  },
  {
   "cell_type": "markdown",
   "metadata": {},
   "source": [
    "<a id='corpus_validation'></a>\n",
    "# Corpus Validation\n",
    "\n",
    "The next cell with show that the training data is highly imbalanced. For the training of the model we will use a binary classification, using 0 to encode non-metaphor tokens and 1 to encode metaphor tokens. \n",
    "\n",
    "The training set, however, includes a significantly higher amount of non-metaphor tokens. A fact that will cause simple training to fail, since due to the imbalance the model will almost always choose a 0. The calculated ratios will be used to introduce a *weighted_categorical_crossentropy* loss function to combat this imbalance."
   ]
  },
  {
   "cell_type": "code",
   "execution_count": 3,
   "metadata": {},
   "outputs": [
    {
     "name": "stdout",
     "output_type": "stream",
     "text": [
      "Percentage of metaphor tokens: 6%\n",
      "Percentage of non-metaphor tokens: 94%\n",
      "Ratio: 1:16\n"
     ]
    }
   ],
   "source": [
    "number_of_all_labels = len(c_train.label_list)\n",
    "count_of_label_classes = collections.Counter(c_train.label_list)\n",
    "\n",
    "percentage_of_non_metaphor_tokens = round(count_of_label_classes[0] / number_of_all_labels * 100)\n",
    "percentage_of_metaphor_tokens = round(count_of_label_classes[1] / number_of_all_labels * 100)\n",
    "ratio = utils.simplify_ratio(percentage_of_non_metaphor_tokens, percentage_of_metaphor_tokens)\n",
    "assert(percentage_of_non_metaphor_tokens + percentage_of_metaphor_tokens == 100)\n",
    "\n",
    "print('Percentage of metaphor tokens: {}%'.format(percentage_of_metaphor_tokens))\n",
    "print('Percentage of non-metaphor tokens: {}%'.format(percentage_of_non_metaphor_tokens))\n",
    "print('Ratio: {}:{}'.format(ratio[0], ratio[1]))"
   ]
  },
  {
   "cell_type": "markdown",
   "metadata": {},
   "source": [
    "<a id='model_configuration'></a>\n",
    "# Model Configuration\n",
    "\n",
    "The next cell is the primary configuration for the model.\n",
    "\n",
    "## Weighted Categorical Crossentropy\n",
    "\n",
    "As described above, the training set is highly imbalanced. Therefore we will use a weighted_categorical_crossentropy to calculate the loss in the training. This loss can be adjusted here. "
   ]
  },
  {
   "cell_type": "code",
   "execution_count": 18,
   "metadata": {},
   "outputs": [
    {
     "name": "stdout",
     "output_type": "stream",
     "text": [
      "loss_weight [1.0, 15.119793553060486]\n"
     ]
    }
   ],
   "source": [
    "MAX_SENTENCE_LENGTH = 50\n",
    "WEIGHT_SMOOTHING = 0.0\n",
    "EMBEDDING_DIM = 300\n",
    "KFOLD_SPLIT = 8\n",
    "KERAS_OPTIMIZER = 'rmsprop'\n",
    "KERAS_METRICS = [utils.precision, utils.recall, utils.f1]\n",
    "KERAS_EPOCHS = 5\n",
    "KERAS_BATCH_SIZE = 32\n",
    "KERAS_ACTIVATION = 'softmax'\n",
    "KERAS_DROPOUT = 0.25\n",
    "\n",
    "class_weights =  list(utils.get_class_weights(c_train.label_list, WEIGHT_SMOOTHING).values())\n",
    "print('loss_weight {}'.format(class_weights))\n",
    "KERAS_LOSS = utils.weighted_categorical_crossentropy(class_weights)"
   ]
  },
  {
   "cell_type": "markdown",
   "metadata": {},
   "source": [
    "<a id='word_embeddings'></a>\n",
    "# Word Embeddings\n",
    "\n",
    "The model uses Word Embeddings to encode lexical items as real number vectors to encode semantics. \n",
    "\n",
    "The nex cell will load the Embeddings for the training and test corpus. This is done by using a polymorph Class that implements the *Embeddings* interface. This way changing embeddings is as simple as changing the Embeddings Object.\n",
    "\n",
    "After the corpora are encoded, the Embeddings object is deleted to free up some memory (some embedding models use lazy loading, which would not use up memory)."
   ]
  },
  {
   "cell_type": "code",
   "execution_count": 5,
   "metadata": {},
   "outputs": [
    {
     "name": "stderr",
     "output_type": "stream",
     "text": [
      "100%|██████████| 11182/11182 [17:25<00:00, 10.70it/s] \n",
      "100%|██████████| 3794/3794 [02:05<00:00, 30.15it/s]\n"
     ]
    },
    {
     "name": "stdout",
     "output_type": "stream",
     "text": [
      "Generated Word Embeddings\n",
      "Deleted Embeddings Object\n"
     ]
    }
   ],
   "source": [
    "# Uncomment to use different Embeddings\n",
    "# embeddings = features.Word2Vec()\n",
    "embeddings = features.Magnitudes()\n",
    "# embeddings = features.DummyEmbeddings(EMBEDDING_DIM)\n",
    "\n",
    "x_input, y_labels, z_postags = features.generate_input_and_labels(c_train.sentences, Vectors=embeddings)\n",
    "x_test, y_test, z_testtags = features.generate_input_and_labels(c_test.sentences, Vectors=embeddings)\n",
    "print('Generated Word Embeddings')\n",
    "\n",
    "# Free up some memory\n",
    "del embeddings\n",
    "print('Deleted Embeddings Object')\n",
    "\n",
    "# POS Tags to numerical sequences\n",
    "pos_tokenizer = Tokenizer()\n",
    "pos_tokenizer.fit_on_texts(z_postags)\n",
    "pos_sequences = pos_tokenizer.texts_to_sequences(z_postags)\n",
    "pos_test_sequences = pos_tokenizer.texts_to_sequences(z_testtags)\n",
    "\n",
    "# Training labels need to be categorical, with 2 classes (0-non-metaphor, 1-metaphor)\n",
    "y_labels = to_categorical(y_labels, 2)\n",
    "z_pos = to_categorical(pos_sequences)\n",
    "z_test = to_categorical(pos_test_sequences)"
   ]
  },
  {
   "cell_type": "markdown",
   "metadata": {},
   "source": [
    "<a id='model_compilation'></a>\n",
    "# The Model\n",
    "\n",
    "This call compiles the model used in the Task.\n",
    "\n",
    " - Input: The input layer will receive the encoded sentences. Shape: Sentence Length * Embedding Dimensions\n",
    " - Core: The core of the model is a bidirectionsal LSTM with a recurrent Dropout\n",
    " - Output: The output layer is dense time distributed series with predicions for 2 classes (0|1)"
   ]
  },
  {
   "cell_type": "code",
   "execution_count": 20,
   "metadata": {},
   "outputs": [
    {
     "name": "stdout",
     "output_type": "stream",
     "text": [
      "_________________________________________________________________\n",
      "Layer (type)                 Output Shape              Param #   \n",
      "=================================================================\n",
      "input_8 (InputLayer)         (None, 50, 300)           0         \n",
      "_________________________________________________________________\n",
      "masking_4 (Masking)          (None, 50, 300)           0         \n",
      "_________________________________________________________________\n",
      "bidirectional_4 (Bidirection (None, 50, 200)           320800    \n",
      "_________________________________________________________________\n",
      "time_distributed_4 (TimeDist (None, 50, 2)             402       \n",
      "=================================================================\n",
      "Total params: 321,202\n",
      "Trainable params: 321,202\n",
      "Non-trainable params: 0\n",
      "_________________________________________________________________\n"
     ]
    }
   ],
   "source": [
    "postags = Input(shape=(MAX_SENTENCE_LENGTH, 17))\n",
    "sentences = Input(shape=(MAX_SENTENCE_LENGTH, EMBEDDING_DIM))\n",
    "model = Masking(mask_value=[-1] * EMBEDDING_DIM)(sentences)\n",
    "model = Bidirectional(LSTM(100, return_sequences=True, dropout=0, recurrent_dropout=KERAS_DROPOUT))(model)\n",
    "outputs = TimeDistributed(Dense(2, activation=KERAS_ACTIVATION))(model)\n",
    "# model = Model(inputs=[sentences], outputs=outputs)\n",
    "model = Model(inputs=[sentences, postags], outputs=outputs)\n",
    "\n",
    "model.compile(optimizer=KERAS_OPTIMIZER, loss=KERAS_LOSS, metrics=KERAS_METRICS)\n",
    "model.summary()"
   ]
  },
  {
   "cell_type": "markdown",
   "metadata": {},
   "source": [
    "<a id='training'></a>\n",
    "# Generate Training and Validation split\n",
    "\n",
    "To futher optimize the training we will use a Kfold split on the training and validation data. This will split the input data and labels *n* times and fit the model each time on the subset."
   ]
  },
  {
   "cell_type": "code",
   "execution_count": 21,
   "metadata": {},
   "outputs": [
    {
     "name": "stdout",
     "output_type": "stream",
     "text": [
      "Train on 9784 samples, validate on 1398 samples\n",
      "Epoch 1/5\n",
      "9784/9784 [==============================] - 28s 3ms/step - loss: 0.4677 - precision: 0.8867 - recall: 0.8867 - f1: 0.8867 - val_loss: 0.2107 - val_precision: 0.9454 - val_recall: 0.9454 - val_f1: 0.9454\n",
      "Epoch 2/5\n",
      "9784/9784 [==============================] - 27s 3ms/step - loss: 0.2117 - precision: 0.9406 - recall: 0.9406 - f1: 0.9406 - val_loss: 0.1876 - val_precision: 0.9461 - val_recall: 0.9461 - val_f1: 0.9461\n",
      "Epoch 3/5\n",
      "9784/9784 [==============================] - 27s 3ms/step - loss: 0.1954 - precision: 0.9437 - recall: 0.9437 - f1: 0.9437 - val_loss: 0.1847 - val_precision: 0.9547 - val_recall: 0.9547 - val_f1: 0.9547\n",
      "Epoch 4/5\n",
      "9784/9784 [==============================] - 27s 3ms/step - loss: 0.1865 - precision: 0.9456 - recall: 0.9456 - f1: 0.9456 - val_loss: 0.1793 - val_precision: 0.9406 - val_recall: 0.9406 - val_f1: 0.9406\n",
      "Epoch 5/5\n",
      "9784/9784 [==============================] - 27s 3ms/step - loss: 0.1797 - precision: 0.9477 - recall: 0.9477 - f1: 0.9477 - val_loss: 0.1716 - val_precision: 0.9527 - val_recall: 0.9527 - val_f1: 0.9527\n",
      "1398/1398 [==============================] - 2s 1ms/step\n",
      "Loss: 17.16%\n",
      "Precision: 95.27%\n",
      "Recall: 95.27%\n",
      "Train on 9784 samples, validate on 1398 samples\n",
      "Epoch 1/5\n",
      "9784/9784 [==============================] - 27s 3ms/step - loss: 0.1749 - precision: 0.9488 - recall: 0.9488 - f1: 0.9488 - val_loss: 0.1685 - val_precision: 0.9505 - val_recall: 0.9505 - val_f1: 0.9505\n",
      "Epoch 2/5\n",
      "9784/9784 [==============================] - 27s 3ms/step - loss: 0.1710 - precision: 0.9499 - recall: 0.9499 - f1: 0.9499 - val_loss: 0.1721 - val_precision: 0.9418 - val_recall: 0.9418 - val_f1: 0.9418\n",
      "Epoch 3/5\n",
      "9784/9784 [==============================] - 27s 3ms/step - loss: 0.1661 - precision: 0.9511 - recall: 0.9511 - f1: 0.9511 - val_loss: 0.1707 - val_precision: 0.9415 - val_recall: 0.9415 - val_f1: 0.9415\n",
      "Epoch 4/5\n",
      "9784/9784 [==============================] - 27s 3ms/step - loss: 0.1627 - precision: 0.9521 - recall: 0.9521 - f1: 0.9521 - val_loss: 0.1634 - val_precision: 0.9515 - val_recall: 0.9515 - val_f1: 0.9515\n",
      "Epoch 5/5\n",
      "9784/9784 [==============================] - 27s 3ms/step - loss: 0.1581 - precision: 0.9536 - recall: 0.9536 - f1: 0.9536 - val_loss: 0.1640 - val_precision: 0.9500 - val_recall: 0.9500 - val_f1: 0.9500\n",
      "1398/1398 [==============================] - 2s 1ms/step\n",
      "Loss: 16.40%\n",
      "Precision: 95.00%\n",
      "Recall: 95.00%\n",
      "Train on 9784 samples, validate on 1398 samples\n",
      "Epoch 1/5\n",
      "9784/9784 [==============================] - 27s 3ms/step - loss: 0.1555 - precision: 0.9545 - recall: 0.9545 - f1: 0.9545 - val_loss: 0.1617 - val_precision: 0.9425 - val_recall: 0.9425 - val_f1: 0.9425\n",
      "Epoch 2/5\n",
      "9784/9784 [==============================] - 27s 3ms/step - loss: 0.1517 - precision: 0.9554 - recall: 0.9554 - f1: 0.9554 - val_loss: 0.1549 - val_precision: 0.9488 - val_recall: 0.9488 - val_f1: 0.9488\n",
      "Epoch 3/5\n",
      "9784/9784 [==============================] - 27s 3ms/step - loss: 0.1477 - precision: 0.9567 - recall: 0.9567 - f1: 0.9567 - val_loss: 0.1581 - val_precision: 0.9452 - val_recall: 0.9452 - val_f1: 0.9452\n",
      "Epoch 4/5\n",
      "9784/9784 [==============================] - 27s 3ms/step - loss: 0.1458 - precision: 0.9572 - recall: 0.9572 - f1: 0.9572 - val_loss: 0.1521 - val_precision: 0.9516 - val_recall: 0.9516 - val_f1: 0.9516\n",
      "Epoch 5/5\n",
      "9784/9784 [==============================] - 27s 3ms/step - loss: 0.1404 - precision: 0.9586 - recall: 0.9586 - f1: 0.9586 - val_loss: 0.1529 - val_precision: 0.9603 - val_recall: 0.9603 - val_f1: 0.9603\n",
      "1398/1398 [==============================] - 2s 1ms/step\n",
      "Loss: 15.29%\n",
      "Precision: 96.03%\n",
      "Recall: 96.03%\n",
      "Train on 9784 samples, validate on 1398 samples\n",
      "Epoch 1/5\n",
      "9784/9784 [==============================] - 27s 3ms/step - loss: 0.1414 - precision: 0.9593 - recall: 0.9593 - f1: 0.9593 - val_loss: 0.1277 - val_precision: 0.9661 - val_recall: 0.9661 - val_f1: 0.9661\n",
      "Epoch 2/5\n",
      "9784/9784 [==============================] - 28s 3ms/step - loss: 0.1376 - precision: 0.9599 - recall: 0.9599 - f1: 0.9599 - val_loss: 0.1253 - val_precision: 0.9597 - val_recall: 0.9597 - val_f1: 0.9597\n",
      "Epoch 3/5\n",
      "9784/9784 [==============================] - 27s 3ms/step - loss: 0.1338 - precision: 0.9611 - recall: 0.9611 - f1: 0.9611 - val_loss: 0.1244 - val_precision: 0.9600 - val_recall: 0.9600 - val_f1: 0.9600\n",
      "Epoch 4/5\n",
      "9784/9784 [==============================] - 28s 3ms/step - loss: 0.1294 - precision: 0.9623 - recall: 0.9623 - f1: 0.9623 - val_loss: 0.1241 - val_precision: 0.9605 - val_recall: 0.9605 - val_f1: 0.9605\n",
      "Epoch 5/5\n",
      "9784/9784 [==============================] - 28s 3ms/step - loss: 0.1263 - precision: 0.9634 - recall: 0.9634 - f1: 0.9634 - val_loss: 0.1223 - val_precision: 0.9608 - val_recall: 0.9608 - val_f1: 0.9608\n",
      "1398/1398 [==============================] - 2s 1ms/step\n",
      "Loss: 12.23%\n",
      "Precision: 96.08%\n",
      "Recall: 96.08%\n",
      "Train on 9784 samples, validate on 1398 samples\n",
      "Epoch 1/5\n",
      "9784/9784 [==============================] - 27s 3ms/step - loss: 0.1245 - precision: 0.9641 - recall: 0.9641 - f1: 0.9641 - val_loss: 0.1186 - val_precision: 0.9603 - val_recall: 0.9603 - val_f1: 0.9603\n",
      "Epoch 2/5\n",
      "9784/9784 [==============================] - 28s 3ms/step - loss: 0.1206 - precision: 0.9652 - recall: 0.9652 - f1: 0.9652 - val_loss: 0.1180 - val_precision: 0.9660 - val_recall: 0.9660 - val_f1: 0.9660\n",
      "Epoch 3/5\n",
      "9784/9784 [==============================] - 28s 3ms/step - loss: 0.1173 - precision: 0.9663 - recall: 0.9663 - f1: 0.9663 - val_loss: 0.1185 - val_precision: 0.9644 - val_recall: 0.9644 - val_f1: 0.9644\n",
      "Epoch 4/5\n",
      "9784/9784 [==============================] - 28s 3ms/step - loss: 0.1139 - precision: 0.9674 - recall: 0.9674 - f1: 0.9674 - val_loss: 0.1220 - val_precision: 0.9704 - val_recall: 0.9704 - val_f1: 0.9704\n",
      "Epoch 5/5\n",
      "9784/9784 [==============================] - 28s 3ms/step - loss: 0.1111 - precision: 0.9684 - recall: 0.9684 - f1: 0.9684 - val_loss: 0.1251 - val_precision: 0.9727 - val_recall: 0.9727 - val_f1: 0.9727\n",
      "1398/1398 [==============================] - 2s 1ms/step\n",
      "Loss: 12.51%\n",
      "Precision: 97.27%\n",
      "Recall: 97.27%\n",
      "Train on 9784 samples, validate on 1398 samples\n",
      "Epoch 1/5\n",
      "9784/9784 [==============================] - 28s 3ms/step - loss: 0.1094 - precision: 0.9691 - recall: 0.9691 - f1: 0.9691 - val_loss: 0.1140 - val_precision: 0.9747 - val_recall: 0.9747 - val_f1: 0.9747\n",
      "Epoch 2/5\n",
      "9784/9784 [==============================] - 27s 3ms/step - loss: 0.1074 - precision: 0.9698 - recall: 0.9698 - f1: 0.9698 - val_loss: 0.1097 - val_precision: 0.9691 - val_recall: 0.9691 - val_f1: 0.9691\n",
      "Epoch 3/5\n",
      "9784/9784 [==============================] - 28s 3ms/step - loss: 0.1038 - precision: 0.9707 - recall: 0.9707 - f1: 0.9707 - val_loss: 0.1116 - val_precision: 0.9659 - val_recall: 0.9659 - val_f1: 0.9659\n",
      "Epoch 4/5\n",
      "9784/9784 [==============================] - 28s 3ms/step - loss: 0.1008 - precision: 0.9718 - recall: 0.9718 - f1: 0.9718 - val_loss: 0.1125 - val_precision: 0.9708 - val_recall: 0.9708 - val_f1: 0.9708\n",
      "Epoch 5/5\n",
      "9784/9784 [==============================] - 27s 3ms/step - loss: 0.0982 - precision: 0.9728 - recall: 0.9728 - f1: 0.9728 - val_loss: 0.1140 - val_precision: 0.9704 - val_recall: 0.9704 - val_f1: 0.9704\n",
      "1398/1398 [==============================] - 2s 1ms/step\n",
      "Loss: 11.40%\n",
      "Precision: 97.04%\n",
      "Recall: 97.04%\n",
      "Train on 9785 samples, validate on 1397 samples\n",
      "Epoch 1/5\n",
      "9785/9785 [==============================] - 35s 4ms/step - loss: 0.0995 - precision: 0.9724 - recall: 0.9724 - f1: 0.9724 - val_loss: 0.0854 - val_precision: 0.9739 - val_recall: 0.9739 - val_f1: 0.9739\n",
      "Epoch 2/5\n",
      "9785/9785 [==============================] - 28s 3ms/step - loss: 0.0964 - precision: 0.9736 - recall: 0.9736 - f1: 0.9736 - val_loss: 0.0857 - val_precision: 0.9749 - val_recall: 0.9749 - val_f1: 0.9749\n",
      "Epoch 3/5\n",
      "9785/9785 [==============================] - 27s 3ms/step - loss: 0.0927 - precision: 0.9744 - recall: 0.9744 - f1: 0.9744 - val_loss: 0.0950 - val_precision: 0.9664 - val_recall: 0.9664 - val_f1: 0.9664\n",
      "Epoch 4/5\n",
      "9785/9785 [==============================] - 27s 3ms/step - loss: 0.0895 - precision: 0.9754 - recall: 0.9754 - f1: 0.9754 - val_loss: 0.0906 - val_precision: 0.9748 - val_recall: 0.9748 - val_f1: 0.9748\n"
     ]
    },
    {
     "name": "stdout",
     "output_type": "stream",
     "text": [
      "Epoch 5/5\n",
      "9785/9785 [==============================] - 27s 3ms/step - loss: 0.0871 - precision: 0.9764 - recall: 0.9764 - f1: 0.9764 - val_loss: 0.0946 - val_precision: 0.9795 - val_recall: 0.9795 - val_f1: 0.9795\n",
      "1397/1397 [==============================] - 2s 1ms/step\n",
      "Loss: 9.46%\n",
      "Precision: 97.95%\n",
      "Recall: 97.95%\n",
      "Train on 9785 samples, validate on 1397 samples\n",
      "Epoch 1/5\n",
      "9785/9785 [==============================] - 34s 3ms/step - loss: 0.0875 - precision: 0.9763 - recall: 0.9763 - f1: 0.9763 - val_loss: 0.0726 - val_precision: 0.9765 - val_recall: 0.9765 - val_f1: 0.9765\n",
      "Epoch 2/5\n",
      "9785/9785 [==============================] - 27s 3ms/step - loss: 0.0834 - precision: 0.9773 - recall: 0.9773 - f1: 0.9773 - val_loss: 0.0720 - val_precision: 0.9803 - val_recall: 0.9803 - val_f1: 0.9803\n",
      "Epoch 3/5\n",
      "9785/9785 [==============================] - 27s 3ms/step - loss: 0.0813 - precision: 0.9780 - recall: 0.9780 - f1: 0.9780 - val_loss: 0.0721 - val_precision: 0.9788 - val_recall: 0.9788 - val_f1: 0.9788\n",
      "Epoch 4/5\n",
      "9785/9785 [==============================] - 27s 3ms/step - loss: 0.0776 - precision: 0.9791 - recall: 0.9791 - f1: 0.9791 - val_loss: 0.0747 - val_precision: 0.9816 - val_recall: 0.9816 - val_f1: 0.9816\n",
      "Epoch 5/5\n",
      "9785/9785 [==============================] - 27s 3ms/step - loss: 0.0760 - precision: 0.9795 - recall: 0.9795 - f1: 0.9795 - val_loss: 0.0767 - val_precision: 0.9822 - val_recall: 0.9822 - val_f1: 0.9822\n",
      "1397/1397 [==============================] - 2s 1ms/step\n",
      "Loss: 7.67%\n",
      "Precision: 98.22%\n",
      "Recall: 98.22%\n"
     ]
    }
   ],
   "source": [
    "kfold = KFold(n_splits=KFOLD_SPLIT, shuffle=True, random_state=1337)\n",
    "histories = []\n",
    "\n",
    "for train, test in kfold.split(x_input, y_labels):\n",
    "    x_train = x_input[train]\n",
    "    x_val = x_input[test]\n",
    "    y_train = y_labels[train]\n",
    "    y_val = y_labels[test]\n",
    "    pos_val = z_pos[test]\n",
    "    pos_train = z_pos[train]\n",
    "\n",
    "    # Fit the model for each split\n",
    "    history = model.fit([x_train, pos_train], y_train,\n",
    "                  batch_size=KERAS_BATCH_SIZE,\n",
    "                  epochs=KERAS_EPOCHS,\n",
    "                  validation_data=([x_val, pos_val], y_val))\n",
    "    \n",
    "    histories.append(history)\n",
    "\n",
    "    scores = model.evaluate([x_val, pos_val], y_val)\n",
    "    print('Loss: {:.2%}'.format(scores[0]))\n",
    "    print('Precision: {:.2%}'.format(scores[1]))\n",
    "    print('Recall: {:.2%}'.format(scores[2]))"
   ]
  },
  {
   "cell_type": "markdown",
   "metadata": {},
   "source": [
    "<a id='evaluation'></a>\n",
    "# Prediction and Evalutation\n",
    "\n",
    "To evalutate the model we will use the test corpus and generate predictions (labels) for the input sentences. Each sentence will receive a list of binary classes (0|1) for its tokens. \n",
    "\n",
    "The predictions will be saved in a CSV file, which will be similar to the Gold Labels from the NAACL. Using both of these files (predicitions and gold-standards) we will evalutate the perfomance of the model. \n",
    "\n",
    "Performance is measured in Precision and Recall, expressed in the F1 score."
   ]
  },
  {
   "cell_type": "code",
   "execution_count": 22,
   "metadata": {},
   "outputs": [
    {
     "name": "stdout",
     "output_type": "stream",
     "text": [
      "Result(precision=0.43844332642793726, recall=0.7855249204665959, f1=0.5627730294396961)\n"
     ]
    }
   ],
   "source": [
    "# Get float predictions and turn them into binaries\n",
    "float_predictions = model.predict([x_test,z_test], batch_size=KERAS_BATCH_SIZE)\n",
    "# float_predictions = model.predict([x_test], batch_size=KERAS_BATCH_SIZE)\n",
    "\n",
    "binary_predictions = kerasbackend.argmax(float_predictions)\n",
    "label_predictions = kerasbackend.eval(binary_predictions)\n",
    "\n",
    "# Write prediction to CSV file\n",
    "predictions_file = 'fasttest_all_predictions_pos.csv'\n",
    "# standard_file = 'source/verb_tokens_test_gold_labels.csv'\n",
    "standard_file = 'source/all_pos_tokens_test_gold_labels.csv'\n",
    "\n",
    "# Write the predictions.csv and compare to gold standard\n",
    "rows = evaluate.corpus_evaluation(c_test, label_predictions, MAX_SENTENCE_LENGTH)\n",
    "evaluate.csv_evalutation(rows, predictions_file)\n",
    "results = evaluate.precision_recall_f1(predictions_file, standard_file)\n",
    "\n",
    "print(results)"
   ]
  },
  {
   "cell_type": "markdown",
   "metadata": {},
   "source": [
    "<a id='training_plot'></a>\n",
    "# Model Training Plot\n",
    "\n",
    "The following plot shows the learning of the model during training."
   ]
  },
  {
   "cell_type": "code",
   "execution_count": 23,
   "metadata": {},
   "outputs": [
    {
     "data": {
      "text/html": [
       "<script>requirejs.config({paths: { 'plotly': ['https://cdn.plot.ly/plotly-latest.min']},});if(!window.Plotly) {{require(['plotly'],function(plotly) {window.Plotly=plotly;});}}</script>"
      ],
      "text/vnd.plotly.v1+html": [
       "<script>requirejs.config({paths: { 'plotly': ['https://cdn.plot.ly/plotly-latest.min']},});if(!window.Plotly) {{require(['plotly'],function(plotly) {window.Plotly=plotly;});}}</script>"
      ]
     },
     "metadata": {},
     "output_type": "display_data"
    },
    {
     "data": {
      "application/vnd.plotly.v1+json": {
       "data": [
        {
         "mode": "lines+markers",
         "name": "Loss",
         "type": "scatter",
         "uid": "ec5e1c72-be64-11e8-869f-94b86d86a98e",
         "y": [
          0.4677321081851607,
          0.17489431859378626,
          0.15551542195256188,
          0.14142549411985392,
          0.12450632578461071,
          0.10937204399585529,
          0.09950614698653813,
          0.08746909737800175
         ]
        },
        {
         "mode": "lines+markers",
         "name": "Validation Loss",
         "type": "scatter",
         "uid": "ec5e1c73-be64-11e8-869f-94b86d86a98e",
         "y": [
          0.2107444802493667,
          0.16849251814154595,
          0.16173453285799858,
          0.12769755352293813,
          0.11855041959425582,
          0.11395542257504061,
          0.0854041113350847,
          0.07262604160443663
         ]
        },
        {
         "mode": "lines+markers",
         "name": "Categorical Accuracy",
         "type": "scatter",
         "uid": "ec5e1c74-be64-11e8-869f-94b86d86a98e",
         "y": [
          0.8867013252181102,
          0.9487509192839472,
          0.9544584652681577,
          0.9592599096302117,
          0.9640554495259376,
          0.9691373706351317,
          0.9723697587916238,
          0.9762942317437322
         ]
        },
        {
         "mode": "lines+markers",
         "name": "Validation Categorical Accuracy",
         "type": "scatter",
         "uid": "ec5e1c75-be64-11e8-869f-94b86d86a98e",
         "y": [
          0.9453935494409269,
          0.9504862576936277,
          0.9424891527289143,
          0.9661374186753203,
          0.9602717652341327,
          0.9747353719709939,
          0.9739157072799753,
          0.9765210967449606
         ]
        }
       ],
       "layout": {
        "title": "Training History",
        "xaxis": {
         "title": "Epoch"
        },
        "yaxis": {
         "title": "Value"
        }
       }
      },
      "text/html": [
       "<div id=\"86f5897d-7100-44aa-b164-398e9b20c12e\" style=\"height: 525px; width: 100%;\" class=\"plotly-graph-div\"></div><script type=\"text/javascript\">require([\"plotly\"], function(Plotly) { window.PLOTLYENV=window.PLOTLYENV || {};window.PLOTLYENV.BASE_URL=\"https://plot.ly\";Plotly.newPlot(\"86f5897d-7100-44aa-b164-398e9b20c12e\", [{\"mode\": \"lines+markers\", \"name\": \"Loss\", \"y\": [0.4677321081851607, 0.17489431859378626, 0.15551542195256188, 0.14142549411985392, 0.12450632578461071, 0.10937204399585529, 0.09950614698653813, 0.08746909737800175], \"type\": \"scatter\", \"uid\": \"ec5e1c72-be64-11e8-869f-94b86d86a98e\"}, {\"mode\": \"lines+markers\", \"name\": \"Validation Loss\", \"y\": [0.2107444802493667, 0.16849251814154595, 0.16173453285799858, 0.12769755352293813, 0.11855041959425582, 0.11395542257504061, 0.0854041113350847, 0.07262604160443663], \"type\": \"scatter\", \"uid\": \"ec5e1c73-be64-11e8-869f-94b86d86a98e\"}, {\"mode\": \"lines+markers\", \"name\": \"Categorical Accuracy\", \"y\": [0.8867013252181102, 0.9487509192839472, 0.9544584652681577, 0.9592599096302117, 0.9640554495259376, 0.9691373706351317, 0.9723697587916238, 0.9762942317437322], \"type\": \"scatter\", \"uid\": \"ec5e1c74-be64-11e8-869f-94b86d86a98e\"}, {\"mode\": \"lines+markers\", \"name\": \"Validation Categorical Accuracy\", \"y\": [0.9453935494409269, 0.9504862576936277, 0.9424891527289143, 0.9661374186753203, 0.9602717652341327, 0.9747353719709939, 0.9739157072799753, 0.9765210967449606], \"type\": \"scatter\", \"uid\": \"ec5e1c75-be64-11e8-869f-94b86d86a98e\"}], {\"title\": \"Training History\", \"xaxis\": {\"title\": \"Epoch\"}, \"yaxis\": {\"title\": \"Value\"}}, {\"showLink\": true, \"linkText\": \"Export to plot.ly\"})});</script>"
      ],
      "text/vnd.plotly.v1+html": [
       "<div id=\"86f5897d-7100-44aa-b164-398e9b20c12e\" style=\"height: 525px; width: 100%;\" class=\"plotly-graph-div\"></div><script type=\"text/javascript\">require([\"plotly\"], function(Plotly) { window.PLOTLYENV=window.PLOTLYENV || {};window.PLOTLYENV.BASE_URL=\"https://plot.ly\";Plotly.newPlot(\"86f5897d-7100-44aa-b164-398e9b20c12e\", [{\"mode\": \"lines+markers\", \"name\": \"Loss\", \"y\": [0.4677321081851607, 0.17489431859378626, 0.15551542195256188, 0.14142549411985392, 0.12450632578461071, 0.10937204399585529, 0.09950614698653813, 0.08746909737800175], \"type\": \"scatter\", \"uid\": \"ec5e1c72-be64-11e8-869f-94b86d86a98e\"}, {\"mode\": \"lines+markers\", \"name\": \"Validation Loss\", \"y\": [0.2107444802493667, 0.16849251814154595, 0.16173453285799858, 0.12769755352293813, 0.11855041959425582, 0.11395542257504061, 0.0854041113350847, 0.07262604160443663], \"type\": \"scatter\", \"uid\": \"ec5e1c73-be64-11e8-869f-94b86d86a98e\"}, {\"mode\": \"lines+markers\", \"name\": \"Categorical Accuracy\", \"y\": [0.8867013252181102, 0.9487509192839472, 0.9544584652681577, 0.9592599096302117, 0.9640554495259376, 0.9691373706351317, 0.9723697587916238, 0.9762942317437322], \"type\": \"scatter\", \"uid\": \"ec5e1c74-be64-11e8-869f-94b86d86a98e\"}, {\"mode\": \"lines+markers\", \"name\": \"Validation Categorical Accuracy\", \"y\": [0.9453935494409269, 0.9504862576936277, 0.9424891527289143, 0.9661374186753203, 0.9602717652341327, 0.9747353719709939, 0.9739157072799753, 0.9765210967449606], \"type\": \"scatter\", \"uid\": \"ec5e1c75-be64-11e8-869f-94b86d86a98e\"}], {\"title\": \"Training History\", \"xaxis\": {\"title\": \"Epoch\"}, \"yaxis\": {\"title\": \"Value\"}}, {\"showLink\": true, \"linkText\": \"Export to plot.ly\"})});</script>"
      ]
     },
     "metadata": {},
     "output_type": "display_data"
    }
   ],
   "source": [
    "import plotly \n",
    "plotly.offline.init_notebook_mode(connected=True)\n",
    "\n",
    "loss_p = plotly.graph_objs.Scatter(\n",
    "    y = [history.history['loss'][0] for history in histories],\n",
    "    mode = 'lines+markers',\n",
    "    name = 'Loss'\n",
    ")\n",
    "\n",
    "val_loss_p = plotly.graph_objs.Scatter(\n",
    "    y = [history.history['val_loss'][0] for history in histories],\n",
    "    mode = 'lines+markers',\n",
    "    name = 'Validation Loss'\n",
    ")\n",
    "\n",
    "acc_p = plotly.graph_objs.Scatter(\n",
    "    y = [history.history['f1'][0] for history in histories],\n",
    "    mode = 'lines+markers',\n",
    "    name = 'Categorical Accuracy'\n",
    ")\n",
    "\n",
    "val_acc_p = plotly.graph_objs.Scatter(\n",
    "    y = [history.history['val_f1'][0] for history in histories],\n",
    "    mode = 'lines+markers',\n",
    "    name = 'Validation Categorical Accuracy'\n",
    ")\n",
    "\n",
    "layout = plotly.graph_objs.Layout(title=\"Training History\",\n",
    "                yaxis=dict(title='Value'),\n",
    "                xaxis=dict(title='Epoch'))\n",
    "\n",
    "data = [loss_p, val_loss_p, acc_p, val_acc_p]\n",
    "fig = plotly.graph_objs.Figure(data=data, layout=layout)\n",
    "\n",
    "plotly.offline.iplot(fig, filename='jupyter-train-history')"
   ]
  },
  {
   "cell_type": "code",
   "execution_count": null,
   "metadata": {},
   "outputs": [],
   "source": []
  }
 ],
 "metadata": {
  "kernelspec": {
   "display_name": "Python 3",
   "language": "python",
   "name": "python3"
  },
  "language_info": {
   "codemirror_mode": {
    "name": "ipython",
    "version": 3
   },
   "file_extension": ".py",
   "mimetype": "text/x-python",
   "name": "python",
   "nbconvert_exporter": "python",
   "pygments_lexer": "ipython3",
   "version": "3.6.6"
  }
 },
 "nbformat": 4,
 "nbformat_minor": 2
}
